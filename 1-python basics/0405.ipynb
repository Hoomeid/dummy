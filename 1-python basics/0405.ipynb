{
 "cells": [
  {
   "cell_type": "markdown",
   "id": "ca01e552",
   "metadata": {},
   "source": [
    "password  checker"
   ]
  },
  {
   "cell_type": "code",
   "execution_count": 6,
   "id": "20ad116b",
   "metadata": {},
   "outputs": [],
   "source": [
    "def strong_password(password):\n",
    "    if(len(password))<8:\n",
    "        return \"password Error\"\n",
    "    if not any(char.isdigit() for char in password):\n",
    "        return \"Digit error\"\n",
    "    if not any(char.islower() for char in password):\n",
    "        return \"Lower Alpha error\"\n",
    "    if not any(char.isupper() for char in password):\n",
    "        return \"Upper Alpha error\"\n",
    "    return True"
   ]
  },
  {
   "cell_type": "code",
   "execution_count": 7,
   "id": "6cc88c4b",
   "metadata": {},
   "outputs": [
    {
     "data": {
      "text/plain": [
       "True"
      ]
     },
     "execution_count": 7,
     "metadata": {},
     "output_type": "execute_result"
    }
   ],
   "source": [
    "strong_password(\"123478Ab90\")"
   ]
  },
  {
   "cell_type": "code",
   "execution_count": 9,
   "id": "660e1dcc",
   "metadata": {},
   "outputs": [],
   "source": [
    "cart =[\n",
    "    {'name' : 'Hoomeid',\n",
    "     'Sir_name' : 'Alam',\n",
    "     'Home' : 'Rkl',\n",
    "     'Phone': 787878787542\n",
    "\n",
    "    }\n",
    "\n",
    "]"
   ]
  },
  {
   "cell_type": "code",
   "execution_count": 10,
   "id": "f85b6576",
   "metadata": {},
   "outputs": [
    {
     "data": {
      "text/plain": [
       "[{'name': 'Hoomeid', 'Sir_name': 'Alam', 'Home': 'Rkl', 'Phone': 787878787542}]"
      ]
     },
     "execution_count": 10,
     "metadata": {},
     "output_type": "execute_result"
    }
   ],
   "source": [
    "cart"
   ]
  },
  {
   "cell_type": "code",
   "execution_count": 21,
   "id": "3307b776",
   "metadata": {},
   "outputs": [
    {
     "name": "stdout",
     "output_type": "stream",
     "text": [
      "dict_values(['Hoomeid', 'Alam', 'Rkl', 787878787542])\n"
     ]
    }
   ],
   "source": [
    "for char in cart:\n",
    "    print(char.values())"
   ]
  },
  {
   "cell_type": "code",
   "execution_count": 22,
   "id": "254b25b3",
   "metadata": {},
   "outputs": [],
   "source": [
    "def palindrome(s):\n",
    "    s=s.lower().replace(\" \",\"\")\n",
    "    return s==s[::-1]"
   ]
  },
  {
   "cell_type": "code",
   "execution_count": 24,
   "id": "8ff452a2",
   "metadata": {},
   "outputs": [
    {
     "data": {
      "text/plain": [
       "False"
      ]
     },
     "execution_count": 24,
     "metadata": {},
     "output_type": "execute_result"
    }
   ],
   "source": [
    "palindrome('78979')"
   ]
  },
  {
   "cell_type": "code",
   "execution_count": 25,
   "id": "c20bc2e4",
   "metadata": {},
   "outputs": [
    {
     "name": "stdout",
     "output_type": "stream",
     "text": [
      "{'my': 1, 'name': 1, 'is': 1, 'hooomeid': 1, 'alam': 1, 'from': 1, 'rourkela': 1}\n"
     ]
    }
   ],
   "source": [
    "def count_words(path):\n",
    "    word_count={}\n",
    "    with open(path,'r') as file:\n",
    "        for line in file:\n",
    "            words=line.split()\n",
    "            for word in words:\n",
    "                word=word.lower()\n",
    "                word_count[word]=word_count.get(word,0)+1\n",
    "\n",
    "    return word_count\n",
    "\n",
    "file_path='sample.txt'\n",
    "A=count_words(file_path)\n",
    "print(A)"
   ]
  },
  {
   "cell_type": "code",
   "execution_count": null,
   "id": "7466f5ff",
   "metadata": {},
   "outputs": [],
   "source": []
  },
  {
   "cell_type": "markdown",
   "id": "c20dec8a",
   "metadata": {},
   "source": []
  }
 ],
 "metadata": {
  "kernelspec": {
   "display_name": "Python 3",
   "language": "python",
   "name": "python3"
  },
  "language_info": {
   "codemirror_mode": {
    "name": "ipython",
    "version": 3
   },
   "file_extension": ".py",
   "mimetype": "text/x-python",
   "name": "python",
   "nbconvert_exporter": "python",
   "pygments_lexer": "ipython3",
   "version": "3.12.0"
  }
 },
 "nbformat": 4,
 "nbformat_minor": 5
}
